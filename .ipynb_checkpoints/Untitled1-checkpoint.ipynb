{
 "cells": [
  {
   "cell_type": "code",
   "execution_count": 1,
   "metadata": {},
   "outputs": [],
   "source": [
    "#Load exogenous prime rate data history\n",
    "def scrape_prime():\n",
    "    url = 'http://www.fedprimerate.com/wall_street_journal_prime_rate_history.htm'\n",
    "    page = requests.get(url)\n",
    "    soup=BeautifulSoup(page.content,\"html\")\n",
    "    rows = soup.find_all(class_='p-1-b-c') #find all rows\n",
    "    rlist = []\n",
    "    for i in rows[4:520]:\n",
    "         rlist.append(i.get_text())\n",
    "    date = []\n",
    "    rate = []\n",
    "    for k,v in enumerate(rlist):\n",
    "        if k % 2 == 0:\n",
    "            rate.append(v)\n",
    "        else:\n",
    "            date.append(v)\n",
    "    df_dict = {'date':date,\n",
    "               'rate':rate}\n",
    "    prime_df = pd.DataFrame.from_dict(df_dict)\n",
    "    return prime_df"
   ]
  },
  {
   "cell_type": "code",
   "execution_count": null,
   "metadata": {},
   "outputs": [],
   "source": [
    "prime_rate_df = scrape_prime()"
   ]
  },
  {
   "cell_type": "code",
   "execution_count": null,
   "metadata": {},
   "outputs": [],
   "source": [
    "def prime_rate_clean():\n",
    "    prime_rate_df.rate = prime_rate_df.rate.shift(-1)\n",
    "    prime_rate_df.reset_index(inplace = True)\n",
    "    prime_rate_df.drop(prime_rate_df.index, inplace = True)\n",
    "    prime_rate_df.date = prime_rate_df.date.str.replace('\\n ', '', regex=False)\n",
    "    prime_rate_df.date = pd.to_datetime(prime_rate_df['date'])\n",
    "    prime_rate_df.to_csv('prime_rate_csv.csv')"
   ]
  }
 ],
 "metadata": {
  "kernelspec": {
   "display_name": "Python 3",
   "language": "python",
   "name": "python3"
  },
  "language_info": {
   "codemirror_mode": {
    "name": "ipython",
    "version": 3
   },
   "file_extension": ".py",
   "mimetype": "text/x-python",
   "name": "python",
   "nbconvert_exporter": "python",
   "pygments_lexer": "ipython3",
   "version": "3.6.9"
  }
 },
 "nbformat": 4,
 "nbformat_minor": 4
}
