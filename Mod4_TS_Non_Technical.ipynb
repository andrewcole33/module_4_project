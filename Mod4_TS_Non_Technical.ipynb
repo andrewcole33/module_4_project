{
 "cells": [
  {
   "cell_type": "markdown",
   "metadata": {},
   "source": [
    "# Module 4 Project: Financial Instrument Time Series Analysis - Non-Techincal Notebook\n",
    "## Andrew Cole"
   ]
  },
  {
   "cell_type": "markdown",
   "metadata": {},
   "source": [
    "## 1) Import Necessary Libraries\n",
    "\n",
    "The main objective here is to provide the prospective stakeholder, a small-market wealth management advisory company, with statistical insight on past and future performance of potential investments. A financial vehicle, the XLV Healthcare mutual fund (ticker symbol: XLV), was selected for further analysis. \n",
    "\n",
    "A full Time Series analysis is conducted to look at the historic performance of the XLV as well as to forecast it's movement into the future. By taking in the historic information and movement of the closing prices of the XLV dating back 21 years to the end of 1998, we can look at past movements combined with TS modeling to create an accurate and confident projection of future prices. Multiple time series models with varying parameters were tested and compared to each other. After these comparisons a single model was selected and then the XLV data was fit to the selected model for forecasting of the future XLV closing prices. "
   ]
  },
  {
   "cell_type": "code",
   "execution_count": 52,
   "metadata": {},
   "outputs": [
    {
     "name": "stdout",
     "output_type": "stream",
     "text": [
      "The autoreload extension is already loaded. To reload it, use:\n",
      "  %reload_ext autoreload\n"
     ]
    }
   ],
   "source": [
    "# Here we are importing the necessary Python libraries which we will use to gather necessary data, perform operations and transformations of the data,\n",
    "# create visualizations, and model the different Time Series\n",
    "\n",
    "import ticker_cleaner\n",
    "import matplotlib.pyplot as plt\n",
    "import numpy as np\n",
    "from statsmodels.tsa.arima_model import ARIMA\n",
    "from statsmodels.tsa.seasonal import seasonal_decompose\n",
    "import statsmodels.tsa.stattools as TS\n",
    "import warnings\n",
    "from IPython.display import Image\n",
    "\n",
    "%load_ext autoreload\n",
    "%autoreload"
   ]
  },
  {
   "cell_type": "markdown",
   "metadata": {},
   "source": [
    "## 2) Assemble Historical Data & Visualize "
   ]
  },
  {
   "cell_type": "markdown",
   "metadata": {},
   "source": [
    "The first thing we will do is gather the necessary historic financial information for the XLV mutual fund. Data was collected from Yahoo Finance. The Data will date back to December of 1998 and continue until present day. Once we have the necessary information we will re-group the data into monthly averages of the closing price. These monthly averages will then be visualized in a graph which will show us the historic movement of average monthly closing prices of the XLV fund."
   ]
  },
  {
   "cell_type": "code",
   "execution_count": 42,
   "metadata": {},
   "outputs": [
    {
     "data": {
      "text/html": [
       "<div>\n",
       "<style scoped>\n",
       "    .dataframe tbody tr th:only-of-type {\n",
       "        vertical-align: middle;\n",
       "    }\n",
       "\n",
       "    .dataframe tbody tr th {\n",
       "        vertical-align: top;\n",
       "    }\n",
       "\n",
       "    .dataframe thead th {\n",
       "        text-align: right;\n",
       "    }\n",
       "</style>\n",
       "<table border=\"1\" class=\"dataframe\">\n",
       "  <thead>\n",
       "    <tr style=\"text-align: right;\">\n",
       "      <th></th>\n",
       "      <th>Close</th>\n",
       "    </tr>\n",
       "    <tr>\n",
       "      <th>Date</th>\n",
       "      <th></th>\n",
       "    </tr>\n",
       "  </thead>\n",
       "  <tbody>\n",
       "    <tr>\n",
       "      <td>2020-01-01</td>\n",
       "      <td>101.848000</td>\n",
       "    </tr>\n",
       "    <tr>\n",
       "      <td>2019-12-01</td>\n",
       "      <td>100.354762</td>\n",
       "    </tr>\n",
       "    <tr>\n",
       "      <td>2019-11-01</td>\n",
       "      <td>95.596500</td>\n",
       "    </tr>\n",
       "    <tr>\n",
       "      <td>2019-10-01</td>\n",
       "      <td>90.148696</td>\n",
       "    </tr>\n",
       "    <tr>\n",
       "      <td>2019-09-01</td>\n",
       "      <td>89.694500</td>\n",
       "    </tr>\n",
       "    <tr>\n",
       "      <td>...</td>\n",
       "      <td>...</td>\n",
       "    </tr>\n",
       "    <tr>\n",
       "      <td>1999-04-01</td>\n",
       "      <td>21.752857</td>\n",
       "    </tr>\n",
       "    <tr>\n",
       "      <td>1999-03-01</td>\n",
       "      <td>20.773913</td>\n",
       "    </tr>\n",
       "    <tr>\n",
       "      <td>1999-02-01</td>\n",
       "      <td>20.173684</td>\n",
       "    </tr>\n",
       "    <tr>\n",
       "      <td>1999-01-01</td>\n",
       "      <td>19.944737</td>\n",
       "    </tr>\n",
       "    <tr>\n",
       "      <td>1998-12-01</td>\n",
       "      <td>19.021429</td>\n",
       "    </tr>\n",
       "  </tbody>\n",
       "</table>\n",
       "<p>254 rows × 1 columns</p>\n",
       "</div>"
      ],
      "text/plain": [
       "                 Close\n",
       "Date                  \n",
       "2020-01-01  101.848000\n",
       "2019-12-01  100.354762\n",
       "2019-11-01   95.596500\n",
       "2019-10-01   90.148696\n",
       "2019-09-01   89.694500\n",
       "...                ...\n",
       "1999-04-01   21.752857\n",
       "1999-03-01   20.773913\n",
       "1999-02-01   20.173684\n",
       "1999-01-01   19.944737\n",
       "1998-12-01   19.021429\n",
       "\n",
       "[254 rows x 1 columns]"
      ]
     },
     "execution_count": 42,
     "metadata": {},
     "output_type": "execute_result"
    }
   ],
   "source": [
    "# Using the Helper.py module to gather the XLV Yahoo Finance data and transform it into a DataFrame with operable features. \n",
    "# This is the basis for all operations completed on XLV data. \n",
    "# The output is a snapshot of the first five financial record entries (monthly average closing prices) as well as the five most recent.\n",
    "\n",
    "xlv_monthly_mean = ticker_cleaner.yahoo_finance_clean('XLV')\n",
    "xlv_monthly_mean"
   ]
  },
  {
   "cell_type": "markdown",
   "metadata": {},
   "source": [
    "Below we can visualize the movement of these closing prices over time. We see that there is a very large increase (almost 450%) since the fund's first input close price. We notice that there is an upwards trend, so we will investigate further as to what is going on over time with the closing price."
   ]
  },
  {
   "cell_type": "code",
   "execution_count": 51,
   "metadata": {
    "jupyter": {
     "source_hidden": true
    }
   },
   "outputs": [
    {
     "data": {
      "image/png": "[encoded data removed]",
      "text/plain": [
       "<Figure size 1152x648 with 1 Axes>"
      ]
     },
     "metadata": {},
     "output_type": "display_data"
    },
    {
     "data": {
      "text/plain": [
       "<Figure size 432x288 with 0 Axes>"
      ]
     },
     "metadata": {},
     "output_type": "display_data"
    }
   ],
   "source": [
    "warnings.filterwarnings(action='always')\n",
    "plt.style.use('ggplot')\n",
    "fig = plt.figure(figsize = (16,9))\n",
    "plt.plot(xlv_monthly_mean, linewidth = 3, label = 'Closing Price')\n",
    "plt.title('XLV Monthly Mean Closing Price')\n",
    "plt.legend()\n",
    "plt.show()\n",
    "plt.savefig('XLV_beginning_close_price')"
   ]
  },
  {
   "cell_type": "markdown",
   "metadata": {},
   "source": [
    "## 3) Decomposing the Fund"
   ]
  },
  {
   "cell_type": "markdown",
   "metadata": {},
   "source": [
    "We will now decompose the XLV's movement of closing price to check for trends, seasonality, and residual distributions. Most Time Series models operate under the assumption that the properties are stationary (constant) over time. Basically, the mean and variance of the series should not actually be a function of time. We will perform a decomposition function to separate trend, seasonality, and residual distributions from the XLV movements to get a better understanding of what is going on. "
   ]
  },
  {
   "cell_type": "code",
   "execution_count": 53,
   "metadata": {},
   "outputs": [],
   "source": [
    "decomposition = seasonal_decompose(np.log(xlv_monthly_mean))"
   ]
  },
  {
   "cell_type": "code",
   "execution_count": null,
   "metadata": {},
   "outputs": [],
   "source": []
  }
 ],
 "metadata": {
  "kernelspec": {
   "display_name": "Python 3",
   "language": "python",
   "name": "python3"
  },
  "language_info": {
   "codemirror_mode": {
    "name": "ipython",
    "version": 3
   },
   "file_extension": ".py",
   "mimetype": "text/x-python",
   "name": "python",
   "nbconvert_exporter": "python",
   "pygments_lexer": "ipython3",
   "version": "3.6.9"
  }
 },
 "nbformat": 4,
 "nbformat_minor": 4
}
